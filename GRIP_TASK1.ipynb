{
  "nbformat": 4,
  "nbformat_minor": 0,
  "metadata": {
    "colab": {
      "name": "GRIP-TASK1.ipynb",
      "provenance": [],
      "collapsed_sections": []
    },
    "kernelspec": {
      "name": "python3",
      "display_name": "Python 3"
    }
  },
  "cells": [
    {
      "cell_type": "markdown",
      "metadata": {
        "id": "SJatUZ3S-gWQ"
      },
      "source": [
        " ***Simple Linear Regression***\n",
        "\n",
        "\n",
        "**Importing the libraries**\n",
        "\n",
        "pandas - to import data\n",
        "\n",
        "sklearn - scikit learn is an ML library (here it is used for Linear regression)\n",
        "\n",
        "matplotlib - for data and result visualizations as plots\n",
        "\n",
        "sns - for data visualization."
      ]
    },
    {
      "cell_type": "code",
      "metadata": {
        "id": "0hq877hhoPlu"
      },
      "source": [
        "import pandas as pd\n",
        "import numpy as np\n",
        "import matplotlib.pyplot as plt\n",
        "import seaborn as sns\n",
        "from sklearn.model_selection import train_test_split as TS\n",
        "from sklearn.linear_model import LinearRegression as LR"
      ],
      "execution_count": null,
      "outputs": []
    },
    {
      "cell_type": "markdown",
      "metadata": {
        "id": "KHTmCe0N_wzX"
      },
      "source": [
        "**Importing the dataset**\n",
        "\n",
        "The dataset is imported from the link provided.\n",
        "\n",
        "Then, the dataset is split into Independent Variable (X) and Dependent Varible (y) ; and reshaped."
      ]
    },
    {
      "cell_type": "code",
      "metadata": {
        "id": "MpCc4zD23Rhf"
      },
      "source": [
        "data = pd.read_csv(\"http://bit.ly/w-data\", sep = ',')\n",
        "data.head(5)\n",
        "\n",
        "X = data[\"Hours\"]\n",
        "y = data[\"Scores\"]\n",
        "\n",
        "X = np.array(X).reshape((-1, 1))\n",
        "y = np.array(y)"
      ],
      "execution_count": null,
      "outputs": []
    },
    {
      "cell_type": "markdown",
      "metadata": {
        "id": "StfVM3vY_7hY"
      },
      "source": [
        "**Information and statistics measures  about the Data:**"
      ]
    },
    {
      "cell_type": "code",
      "metadata": {
        "colab": {
          "base_uri": "https://localhost:8080/"
        },
        "id": "X35ypjDM3vPg",
        "outputId": "6db91519-aa03-468f-c171-2ff6b2eb9aa1"
      },
      "source": [
        "data.info()"
      ],
      "execution_count": null,
      "outputs": [
        {
          "output_type": "stream",
          "text": [
            "<class 'pandas.core.frame.DataFrame'>\n",
            "RangeIndex: 25 entries, 0 to 24\n",
            "Data columns (total 2 columns):\n",
            " #   Column  Non-Null Count  Dtype  \n",
            "---  ------  --------------  -----  \n",
            " 0   Hours   25 non-null     float64\n",
            " 1   Scores  25 non-null     int64  \n",
            "dtypes: float64(1), int64(1)\n",
            "memory usage: 528.0 bytes\n"
          ],
          "name": "stdout"
        }
      ]
    },
    {
      "cell_type": "code",
      "metadata": {
        "colab": {
          "base_uri": "https://localhost:8080/",
          "height": 284
        },
        "id": "OGDVZUek32Pe",
        "outputId": "ea704525-7df6-43e8-f65f-15ae5fb7fce7"
      },
      "source": [
        "data.describe()"
      ],
      "execution_count": null,
      "outputs": [
        {
          "output_type": "execute_result",
          "data": {
            "text/html": [
              "<div>\n",
              "<style scoped>\n",
              "    .dataframe tbody tr th:only-of-type {\n",
              "        vertical-align: middle;\n",
              "    }\n",
              "\n",
              "    .dataframe tbody tr th {\n",
              "        vertical-align: top;\n",
              "    }\n",
              "\n",
              "    .dataframe thead th {\n",
              "        text-align: right;\n",
              "    }\n",
              "</style>\n",
              "<table border=\"1\" class=\"dataframe\">\n",
              "  <thead>\n",
              "    <tr style=\"text-align: right;\">\n",
              "      <th></th>\n",
              "      <th>Hours</th>\n",
              "      <th>Scores</th>\n",
              "    </tr>\n",
              "  </thead>\n",
              "  <tbody>\n",
              "    <tr>\n",
              "      <th>count</th>\n",
              "      <td>25.000000</td>\n",
              "      <td>25.000000</td>\n",
              "    </tr>\n",
              "    <tr>\n",
              "      <th>mean</th>\n",
              "      <td>5.012000</td>\n",
              "      <td>51.480000</td>\n",
              "    </tr>\n",
              "    <tr>\n",
              "      <th>std</th>\n",
              "      <td>2.525094</td>\n",
              "      <td>25.286887</td>\n",
              "    </tr>\n",
              "    <tr>\n",
              "      <th>min</th>\n",
              "      <td>1.100000</td>\n",
              "      <td>17.000000</td>\n",
              "    </tr>\n",
              "    <tr>\n",
              "      <th>25%</th>\n",
              "      <td>2.700000</td>\n",
              "      <td>30.000000</td>\n",
              "    </tr>\n",
              "    <tr>\n",
              "      <th>50%</th>\n",
              "      <td>4.800000</td>\n",
              "      <td>47.000000</td>\n",
              "    </tr>\n",
              "    <tr>\n",
              "      <th>75%</th>\n",
              "      <td>7.400000</td>\n",
              "      <td>75.000000</td>\n",
              "    </tr>\n",
              "    <tr>\n",
              "      <th>max</th>\n",
              "      <td>9.200000</td>\n",
              "      <td>95.000000</td>\n",
              "    </tr>\n",
              "  </tbody>\n",
              "</table>\n",
              "</div>"
            ],
            "text/plain": [
              "           Hours     Scores\n",
              "count  25.000000  25.000000\n",
              "mean    5.012000  51.480000\n",
              "std     2.525094  25.286887\n",
              "min     1.100000  17.000000\n",
              "25%     2.700000  30.000000\n",
              "50%     4.800000  47.000000\n",
              "75%     7.400000  75.000000\n",
              "max     9.200000  95.000000"
            ]
          },
          "metadata": {
            "tags": []
          },
          "execution_count": 15
        }
      ]
    },
    {
      "cell_type": "markdown",
      "metadata": {
        "id": "xVFZlgF1BOpK"
      },
      "source": [
        "**Plotting the data to view some Visualizations**\n",
        "\n",
        "Done with help of Pairplot and Heatmap using 'seaborn' libraries"
      ]
    },
    {
      "cell_type": "code",
      "metadata": {
        "colab": {
          "base_uri": "https://localhost:8080/",
          "height": 391
        },
        "id": "8CYttoIN37ii",
        "outputId": "cf2385f2-bea9-4129-f9c6-2c8464e75591"
      },
      "source": [
        "sns.pairplot(data)"
      ],
      "execution_count": null,
      "outputs": [
        {
          "output_type": "execute_result",
          "data": {
            "text/plain": [
              "<seaborn.axisgrid.PairGrid at 0x7f6db3444110>"
            ]
          },
          "metadata": {
            "tags": []
          },
          "execution_count": 16
        },
        {
          "output_type": "display_data",
          "data": {
            "image/png": "[encoded data removed]",
            "text/plain": [
              "<Figure size 360x360 with 6 Axes>"
            ]
          },
          "metadata": {
            "tags": [],
            "needs_background": "light"
          }
        }
      ]
    },
    {
      "cell_type": "code",
      "metadata": {
        "colab": {
          "base_uri": "https://localhost:8080/",
          "height": 286
        },
        "id": "qLyPMRYd4-8u",
        "outputId": "a756f4ea-f318-42f7-e9c1-384ec4a8ee21"
      },
      "source": [
        "sns.heatmap(data.corr())    #printing correlation values using heatmap "
      ],
      "execution_count": null,
      "outputs": [
        {
          "output_type": "execute_result",
          "data": {
            "text/plain": [
              "<matplotlib.axes._subplots.AxesSubplot at 0x7f6db42a13d0>"
            ]
          },
          "metadata": {
            "tags": []
          },
          "execution_count": 17
        },
        {
          "output_type": "display_data",
          "data": {
            "image/png": "[encoded data removed]",
            "text/plain": [
              "<Figure size 432x288 with 2 Axes>"
            ]
          },
          "metadata": {
            "tags": [],
            "needs_background": "light"
          }
        }
      ]
    },
    {
      "cell_type": "markdown",
      "metadata": {
        "id": "T_M6EZ9-Bmve"
      },
      "source": [
        "**Linear Regression model training on the Training set**\n",
        "\n",
        "To train the training set, we use SIMPLE LINEAR REGRESSION MODEL since the data contains only 2 variables, X and y for summarizing their relationship."
      ]
    },
    {
      "cell_type": "code",
      "metadata": {
        "id": "bDDuOmZE5BSM"
      },
      "source": [
        "X_train, X_test, y_train, y_test = TS(X, y, test_size = 0.25, random_state = 0)"
      ],
      "execution_count": null,
      "outputs": []
    },
    {
      "cell_type": "code",
      "metadata": {
        "colab": {
          "base_uri": "https://localhost:8080/"
        },
        "id": "YqJ5OjBj5W1L",
        "outputId": "f10a6a72-395b-4832-d23f-b4a9deea5741"
      },
      "source": [
        "regressor = LR()\n",
        "regressor.fit(X_train, y_train)"
      ],
      "execution_count": null,
      "outputs": [
        {
          "output_type": "execute_result",
          "data": {
            "text/plain": [
              "LinearRegression(copy_X=True, fit_intercept=True, n_jobs=None, normalize=False)"
            ]
          },
          "metadata": {
            "tags": []
          },
          "execution_count": 22
        }
      ]
    },
    {
      "cell_type": "code",
      "metadata": {
        "colab": {
          "base_uri": "https://localhost:8080/"
        },
        "id": "3RHBkD3x60IN",
        "outputId": "2207b0db-9d6f-46cd-c5fc-4a9970fe42e2"
      },
      "source": [
        "r_sq = regressor.score(X_train, y_train)\n",
        "print(\"Coeffecient of Determination : \", r_sq)\n",
        "print(\"Intercept                    : \", regressor.intercept_)\n",
        "print('Slope                        : ', ''.join(map(str, regressor.coef_)))"
      ],
      "execution_count": null,
      "outputs": [
        {
          "output_type": "stream",
          "text": [
            "Coeffecient of Determination :  0.9484509249326872\n",
            "Intercept                    :  1.9322042531516601\n",
            "Slope                        :  9.941678339488094\n"
          ],
          "name": "stdout"
        }
      ]
    },
    {
      "cell_type": "markdown",
      "metadata": {
        "id": "fFuj2nUYCP4i"
      },
      "source": [
        "Here, ''.join(map()) is used to remove the square brackets ; since join is a method from string, we convert the output to string and then print it."
      ]
    },
    {
      "cell_type": "markdown",
      "metadata": {
        "id": "5ABCAxqqCjsu"
      },
      "source": [
        "**Predicting the Test set results**\n",
        "\n",
        "With the help of the instance created for the model, we can predict the results for the test set or any new X - value given"
      ]
    },
    {
      "cell_type": "code",
      "metadata": {
        "colab": {
          "base_uri": "https://localhost:8080/"
        },
        "id": "pxuJkQUJ7BOo",
        "outputId": "0a39245b-4ec3-40c1-8863-7ce9b5b09156"
      },
      "source": [
        "y_predict = regressor.predict(X_test)\n",
        "\n",
        "print('The Predicted Score for student who studies 9.25 hrs/day :', ''.join(map(str, regressor.predict([[9.25]]))))"
      ],
      "execution_count": null,
      "outputs": [
        {
          "output_type": "stream",
          "text": [
            "The Predicted Score for student who studies 9.25 hrs/day : 93.89272889341652\n"
          ],
          "name": "stdout"
        }
      ]
    },
    {
      "cell_type": "markdown",
      "metadata": {
        "id": "gGD3lvsWCub2"
      },
      "source": [
        "With help of metrices we can calculate the mean squared error and mean absolute error for evaluation purposes."
      ]
    },
    {
      "cell_type": "code",
      "metadata": {
        "colab": {
          "base_uri": "https://localhost:8080/"
        },
        "id": "6EN2yReP61js",
        "outputId": "7cc21316-456c-49bd-85b6-f746bd3992f4"
      },
      "source": [
        "from sklearn import metrics\n",
        "\n",
        "print('MAE:', metrics.mean_absolute_error(y_test, y_predict))\n",
        "print('MSE:', metrics.mean_squared_error(y_test, y_predict))\n",
        "print('RMSE:', np.sqrt(metrics.mean_squared_error(y_test, y_predict)))"
      ],
      "execution_count": null,
      "outputs": [
        {
          "output_type": "stream",
          "text": [
            "MAE: 4.130879918502482\n",
            "MSE: 20.33292367497996\n",
            "RMSE: 4.509204328368805\n"
          ],
          "name": "stdout"
        }
      ]
    },
    {
      "cell_type": "markdown",
      "metadata": {
        "id": "CpSY1_xRDDDJ"
      },
      "source": [
        "**Visualizing the Training set results:**\n",
        "\n",
        "Here, we can Scatter Plot the Actual Datapoints and plot the Regression line of Simple Linear Regression model."
      ]
    },
    {
      "cell_type": "code",
      "metadata": {
        "colab": {
          "base_uri": "https://localhost:8080/",
          "height": 295
        },
        "id": "bG5Jb4gY-RqP",
        "outputId": "1fc982cf-e0d6-447b-cac5-c25068599ab5"
      },
      "source": [
        "plt.scatter(X_train, y_train, color = 'red', edgecolors = 'black')\n",
        "plt.plot(X_train, regressor.predict(X_train), color = 'green')\n",
        "\n",
        "plt.title('Percentage of Student based on Study Hours (Training set)')\n",
        "plt.xlabel('Study Hours')\n",
        "plt.ylabel('Percentage')\n",
        "\n",
        "plt.legend([\"Linear Regression Line\", \"Actual Datapoints\"], loc = \"upper left\")\n",
        "plt.show()"
      ],
      "execution_count": null,
      "outputs": [
        {
          "output_type": "display_data",
          "data": {
            "image/png": "[encoded data removed]",
            "text/plain": [
              "<Figure size 432x288 with 1 Axes>"
            ]
          },
          "metadata": {
            "tags": [],
            "needs_background": "light"
          }
        }
      ]
    },
    {
      "cell_type": "markdown",
      "metadata": {
        "id": "6SvVOZuvDQhS"
      },
      "source": [
        "**Visualizing the Test set results:**"
      ]
    },
    {
      "cell_type": "code",
      "metadata": {
        "colab": {
          "base_uri": "https://localhost:8080/",
          "height": 295
        },
        "id": "iu6JLuBF-W9H",
        "outputId": "37df46b1-4322-4243-b2c3-a8442b183836"
      },
      "source": [
        "plt.scatter(X_test, y_test, color = 'orange', edgecolors=\"black\")\n",
        "plt.plot(X_train, regressor.predict(X_train), color = 'blue')\n",
        "\n",
        "plt.title('Percentage of Student based on Study Hours (Test set)')\n",
        "plt.xlabel('Study Hours')\n",
        "plt.ylabel('Percentage')\n",
        "\n",
        "plt.legend([\"Linear Regression Line\", \"Actual Datapoints\"], loc = \"upper left\")\n",
        "plt.show()"
      ],
      "execution_count": null,
      "outputs": [
        {
          "output_type": "display_data",
          "data": {
            "image/png": "[encoded data removed]",
            "text/plain": [
              "<Figure size 432x288 with 1 Axes>"
            ]
          },
          "metadata": {
            "tags": [],
            "needs_background": "light"
          }
        }
      ]
    },
    {
      "cell_type": "markdown",
      "metadata": {
        "id": "d5yAOiArDiNK"
      },
      "source": [
        "\n",
        "From both the Visualizations, we can see that most of the datapoints are very close to the regression line.\n",
        "\n",
        "The actual values have slight residuals while very few data points are farther from the regression line indicating they have more residual values."
      ]
    }
  ]
}